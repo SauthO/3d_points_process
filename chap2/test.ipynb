{
 "cells": [
  {
   "cell_type": "code",
   "execution_count": 19,
   "id": "8a3db02f-9f14-4808-b675-f60d5722927f",
   "metadata": {},
   "outputs": [],
   "source": [
    "import numpy as np"
   ]
  },
  {
   "cell_type": "code",
   "execution_count": 10,
   "id": "fa82ff65-f4f6-468b-8873-73f5abe43270",
   "metadata": {},
   "outputs": [
    {
     "name": "stdout",
     "output_type": "stream",
     "text": [
      "[[0 0 0]\n",
      " [9 9 9]]\n"
     ]
    },
    {
     "data": {
      "text/plain": [
       "array([ 0, 27])"
      ]
     },
     "execution_count": 10,
     "metadata": {},
     "output_type": "execute_result"
    }
   ],
   "source": [
    "a = np.array([2,3,4])\n",
    "b = np.array([[2,3,4],[5,6,7]])\n",
    "print((a-b)**2)\n",
    "((a-b)**2).sum(axis=1)"
   ]
  },
  {
   "cell_type": "code",
   "execution_count": 11,
   "id": "1d6ee164-e8a1-443a-bf75-e93af04cbe59",
   "metadata": {},
   "outputs": [
    {
     "data": {
      "text/plain": [
       "10"
      ]
     },
     "execution_count": 11,
     "metadata": {},
     "output_type": "execute_result"
    }
   ],
   "source": [
    "np.minimum(10, 10)"
   ]
  },
  {
   "cell_type": "code",
   "execution_count": 18,
   "id": "fa1f29bd-ed46-4f16-8259-7dae538e628e",
   "metadata": {},
   "outputs": [
    {
     "data": {
      "text/plain": [
       "2"
      ]
     },
     "execution_count": 18,
     "metadata": {},
     "output_type": "execute_result"
    }
   ],
   "source": [
    "harris = np.array([10, 20, 30, 40, 50])\n",
    "inds = [0, 1, 2]\n",
    "harris[inds].argmax()"
   ]
  },
  {
   "cell_type": "code",
   "execution_count": 17,
   "id": "2c6642d2-f9d4-4a1e-97be-cc70c42f3aa5",
   "metadata": {},
   "outputs": [
    {
     "data": {
      "text/plain": [
       "(5,)"
      ]
     },
     "execution_count": 17,
     "metadata": {},
     "output_type": "execute_result"
    }
   ],
   "source": [
    "harris.shape"
   ]
  },
  {
   "cell_type": "code",
   "execution_count": 24,
   "id": "4402156a-2d84-4fda-bd91-ea90f2a86be7",
   "metadata": {},
   "outputs": [
    {
     "name": "stdout",
     "output_type": "stream",
     "text": [
      "(array([0, 2]),)\n"
     ]
    },
    {
     "data": {
      "text/plain": [
       "array([0, 2])"
      ]
     },
     "execution_count": 24,
     "metadata": {},
     "output_type": "execute_result"
    }
   ],
   "source": [
    "is_active = [True, False, True]\n",
    "print(np.where(is_active))\n",
    "np.where(is_active)[0]"
   ]
  },
  {
   "cell_type": "code",
   "execution_count": null,
   "id": "4a397b04-c652-4245-b406-106f2e61334e",
   "metadata": {},
   "outputs": [],
   "source": []
  }
 ],
 "metadata": {
  "kernelspec": {
   "display_name": "Python 3 (ipykernel)",
   "language": "python",
   "name": "python3"
  },
  "language_info": {
   "codemirror_mode": {
    "name": "ipython",
    "version": 3
   },
   "file_extension": ".py",
   "mimetype": "text/x-python",
   "name": "python",
   "nbconvert_exporter": "python",
   "pygments_lexer": "ipython3",
   "version": "3.8.10"
  }
 },
 "nbformat": 4,
 "nbformat_minor": 5
}
